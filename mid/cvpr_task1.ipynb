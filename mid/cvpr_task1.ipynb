{
 "cells": [
  {
   "cell_type": "code",
   "execution_count": 10,
   "id": "11217d2d",
   "metadata": {},
   "outputs": [
    {
     "name": "stdout",
     "output_type": "stream",
     "text": [
      "[0, 1, 2, 3, 4, 5, 6, 7, 8, 9, 10]\n",
      "[0, 1, 4, 9, 16, 25, 36, 49, 64, 81, 100]\n",
      "55\n"
     ]
    }
   ],
   "source": [
    "#list\n",
    "#list creation\n",
    "a=list(range(11))\n",
    "print(a)\n",
    "\n",
    "b=list(i*i for i in a)\n",
    "print(b)\n",
    "\n",
    "sum1=sum(a)\n",
    "print(sum1)"
   ]
  },
  {
   "cell_type": "code",
   "execution_count": 11,
   "id": "18560628",
   "metadata": {},
   "outputs": [
    {
     "name": "stdout",
     "output_type": "stream",
     "text": [
      "Tuple: (2, 4, 6, 8, 10)\n",
      "Product: 3840\n"
     ]
    }
   ],
   "source": [
    "#tuple\n",
    "t = tuple(range(2, 12, 2))\n",
    "\n",
    "#product of all the item\n",
    "product = 1\n",
    "for i in t:\n",
    "    product *=i\n",
    "\n",
    "print(\"Tuple:\", t)\n",
    "print(\"Product:\", product)"
   ]
  },
  {
   "cell_type": "code",
   "execution_count": 17,
   "id": "79c1c2ef",
   "metadata": {},
   "outputs": [
    {
     "name": "stdout",
     "output_type": "stream",
     "text": [
      "Union of Sets: {1, 3, 5, 7, 9}\n",
      "Intersection of Sets: {9, 3, 5, 7}\n"
     ]
    }
   ],
   "source": [
    "set1 = set(range(1, 11, 2))\n",
    "set2 = set(range(3, 11, 2))\n",
    "\n",
    "#applying union operation\n",
    "uset = set1.union(set2)\n",
    "print(\"Union of Sets:\", uset)\n",
    "\n",
    "#applying intersection operation\n",
    "iset = set1.intersection(set2)\n",
    "print(\"Intersection of Sets:\", iset)\n"
   ]
  },
  {
   "cell_type": "code",
   "execution_count": 14,
   "id": "d641956a",
   "metadata": {},
   "outputs": [
    {
     "name": "stdout",
     "output_type": "stream",
     "text": [
      "Alphabet Dictionary: {'a': 97, 'b': 98, 'c': 99, 'd': 100, 'e': 101}\n"
     ]
    }
   ],
   "source": [
    "#dictionary withlowercase alphabets as keys and values is their ASCII values\n",
    "alphabet_dict = {chr(ord('a') + i): ord('a') + i for i in range(5)}\n",
    "\n",
    "print(\"Alphabet Dictionary:\", alphabet_dict)\n"
   ]
  },
  {
   "cell_type": "code",
   "execution_count": 19,
   "id": "c33e4e72",
   "metadata": {},
   "outputs": [
    {
     "name": "stdout",
     "output_type": "stream",
     "text": [
      "Normal List: [1, 2, 3, 4, 5, 6, 7, 8, 9, 10]\n",
      "Result: [1, 4, 9, 16, 25, 36, 49, 64, 81, 100]\n"
     ]
    }
   ],
   "source": [
    "# Definition of square(x) function \n",
    "def square(x):\n",
    "    return x**2\n",
    "\n",
    "# Using the map function to apply the square function\n",
    "result = list(map(square, list(range(1, 11))))\n",
    "\n",
    "\n",
    "print(\"Normal List:\", n)\n",
    "print(\"Result:\", result)\n"
   ]
  },
  {
   "cell_type": "code",
   "execution_count": null,
   "id": "7fcbd87c",
   "metadata": {},
   "outputs": [],
   "source": []
  }
 ],
 "metadata": {
  "kernelspec": {
   "display_name": "Python 3 (ipykernel)",
   "language": "python",
   "name": "python3"
  },
  "language_info": {
   "codemirror_mode": {
    "name": "ipython",
    "version": 3
   },
   "file_extension": ".py",
   "mimetype": "text/x-python",
   "name": "python",
   "nbconvert_exporter": "python",
   "pygments_lexer": "ipython3",
   "version": "3.8.18"
  }
 },
 "nbformat": 4,
 "nbformat_minor": 5
}
